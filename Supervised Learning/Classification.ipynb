{
 "cells": [
  {
   "cell_type": "markdown",
   "id": "78fbd2c5",
   "metadata": {},
   "source": [
    "## Step to follow when creating a model\n",
    "\n",
    "Step 1\n",
    "- Import model library\n",
    "\n",
    "Step 2\n",
    "- instantiate the model\n",
    "- model = model(parameters)\n",
    "\n",
    "Step 3\n",
    "- fit the model\n",
    "- model.fit(X,y)\n",
    "\n",
    "Step 4\n",
    "- make predictions\n",
    "- model.predict(X_test)\n",
    "\n",
    "Step 5\n",
    "- Check model performance\n",
    "- model.score(X_test, y_test)"
   ]
  },
  {
   "cell_type": "code",
   "execution_count": 1,
   "id": "d596ba98",
   "metadata": {},
   "outputs": [],
   "source": [
    "# import data\n",
    "import pandas as pd\n",
    "import seaborn as sns\n",
    "import matplotlib.pyplot as plt\n",
    "import numpy as np\n",
    "sns.set()"
   ]
  },
  {
   "cell_type": "code",
   "execution_count": 2,
   "id": "22c7da80",
   "metadata": {},
   "outputs": [
    {
     "data": {
      "text/html": [
       "<div>\n",
       "<style scoped>\n",
       "    .dataframe tbody tr th:only-of-type {\n",
       "        vertical-align: middle;\n",
       "    }\n",
       "\n",
       "    .dataframe tbody tr th {\n",
       "        vertical-align: top;\n",
       "    }\n",
       "\n",
       "    .dataframe thead th {\n",
       "        text-align: right;\n",
       "    }\n",
       "</style>\n",
       "<table border=\"1\" class=\"dataframe\">\n",
       "  <thead>\n",
       "    <tr style=\"text-align: right;\">\n",
       "      <th></th>\n",
       "      <th>Unnamed: 0</th>\n",
       "      <th>account_length</th>\n",
       "      <th>area_code</th>\n",
       "      <th>international_plan</th>\n",
       "      <th>voice_mail_plan</th>\n",
       "      <th>number_vmail_messages</th>\n",
       "      <th>total_day_minutes</th>\n",
       "      <th>total_day_calls</th>\n",
       "      <th>total_day_charge</th>\n",
       "      <th>total_eve_minutes</th>\n",
       "      <th>total_eve_calls</th>\n",
       "      <th>total_eve_charge</th>\n",
       "      <th>total_night_minutes</th>\n",
       "      <th>total_night_calls</th>\n",
       "      <th>total_night_charge</th>\n",
       "      <th>total_intl_minutes</th>\n",
       "      <th>total_intl_calls</th>\n",
       "      <th>total_intl_charge</th>\n",
       "      <th>customer_service_calls</th>\n",
       "      <th>churn</th>\n",
       "    </tr>\n",
       "  </thead>\n",
       "  <tbody>\n",
       "    <tr>\n",
       "      <th>0</th>\n",
       "      <td>0</td>\n",
       "      <td>128</td>\n",
       "      <td>415</td>\n",
       "      <td>0</td>\n",
       "      <td>1</td>\n",
       "      <td>25</td>\n",
       "      <td>265.1</td>\n",
       "      <td>110</td>\n",
       "      <td>45.07</td>\n",
       "      <td>197.4</td>\n",
       "      <td>99</td>\n",
       "      <td>16.78</td>\n",
       "      <td>244.7</td>\n",
       "      <td>91</td>\n",
       "      <td>11.01</td>\n",
       "      <td>10.0</td>\n",
       "      <td>3</td>\n",
       "      <td>2.70</td>\n",
       "      <td>1</td>\n",
       "      <td>0</td>\n",
       "    </tr>\n",
       "    <tr>\n",
       "      <th>1</th>\n",
       "      <td>1</td>\n",
       "      <td>107</td>\n",
       "      <td>415</td>\n",
       "      <td>0</td>\n",
       "      <td>1</td>\n",
       "      <td>26</td>\n",
       "      <td>161.6</td>\n",
       "      <td>123</td>\n",
       "      <td>27.47</td>\n",
       "      <td>195.5</td>\n",
       "      <td>103</td>\n",
       "      <td>16.62</td>\n",
       "      <td>254.4</td>\n",
       "      <td>103</td>\n",
       "      <td>11.45</td>\n",
       "      <td>13.7</td>\n",
       "      <td>3</td>\n",
       "      <td>3.70</td>\n",
       "      <td>1</td>\n",
       "      <td>0</td>\n",
       "    </tr>\n",
       "    <tr>\n",
       "      <th>2</th>\n",
       "      <td>2</td>\n",
       "      <td>137</td>\n",
       "      <td>415</td>\n",
       "      <td>0</td>\n",
       "      <td>0</td>\n",
       "      <td>0</td>\n",
       "      <td>243.4</td>\n",
       "      <td>114</td>\n",
       "      <td>41.38</td>\n",
       "      <td>121.2</td>\n",
       "      <td>110</td>\n",
       "      <td>10.30</td>\n",
       "      <td>162.6</td>\n",
       "      <td>104</td>\n",
       "      <td>7.32</td>\n",
       "      <td>12.2</td>\n",
       "      <td>5</td>\n",
       "      <td>3.29</td>\n",
       "      <td>0</td>\n",
       "      <td>0</td>\n",
       "    </tr>\n",
       "    <tr>\n",
       "      <th>3</th>\n",
       "      <td>3</td>\n",
       "      <td>84</td>\n",
       "      <td>408</td>\n",
       "      <td>1</td>\n",
       "      <td>0</td>\n",
       "      <td>0</td>\n",
       "      <td>299.4</td>\n",
       "      <td>71</td>\n",
       "      <td>50.90</td>\n",
       "      <td>61.9</td>\n",
       "      <td>88</td>\n",
       "      <td>5.26</td>\n",
       "      <td>196.9</td>\n",
       "      <td>89</td>\n",
       "      <td>8.86</td>\n",
       "      <td>6.6</td>\n",
       "      <td>7</td>\n",
       "      <td>1.78</td>\n",
       "      <td>2</td>\n",
       "      <td>0</td>\n",
       "    </tr>\n",
       "    <tr>\n",
       "      <th>4</th>\n",
       "      <td>4</td>\n",
       "      <td>75</td>\n",
       "      <td>415</td>\n",
       "      <td>1</td>\n",
       "      <td>0</td>\n",
       "      <td>0</td>\n",
       "      <td>166.7</td>\n",
       "      <td>113</td>\n",
       "      <td>28.34</td>\n",
       "      <td>148.3</td>\n",
       "      <td>122</td>\n",
       "      <td>12.61</td>\n",
       "      <td>186.9</td>\n",
       "      <td>121</td>\n",
       "      <td>8.41</td>\n",
       "      <td>10.1</td>\n",
       "      <td>3</td>\n",
       "      <td>2.73</td>\n",
       "      <td>3</td>\n",
       "      <td>0</td>\n",
       "    </tr>\n",
       "  </tbody>\n",
       "</table>\n",
       "</div>"
      ],
      "text/plain": [
       "   Unnamed: 0  account_length  area_code  international_plan  voice_mail_plan  \\\n",
       "0           0             128        415                   0                1   \n",
       "1           1             107        415                   0                1   \n",
       "2           2             137        415                   0                0   \n",
       "3           3              84        408                   1                0   \n",
       "4           4              75        415                   1                0   \n",
       "\n",
       "   number_vmail_messages  total_day_minutes  total_day_calls  \\\n",
       "0                     25              265.1              110   \n",
       "1                     26              161.6              123   \n",
       "2                      0              243.4              114   \n",
       "3                      0              299.4               71   \n",
       "4                      0              166.7              113   \n",
       "\n",
       "   total_day_charge  total_eve_minutes  total_eve_calls  total_eve_charge  \\\n",
       "0             45.07              197.4               99             16.78   \n",
       "1             27.47              195.5              103             16.62   \n",
       "2             41.38              121.2              110             10.30   \n",
       "3             50.90               61.9               88              5.26   \n",
       "4             28.34              148.3              122             12.61   \n",
       "\n",
       "   total_night_minutes  total_night_calls  total_night_charge  \\\n",
       "0                244.7                 91               11.01   \n",
       "1                254.4                103               11.45   \n",
       "2                162.6                104                7.32   \n",
       "3                196.9                 89                8.86   \n",
       "4                186.9                121                8.41   \n",
       "\n",
       "   total_intl_minutes  total_intl_calls  total_intl_charge  \\\n",
       "0                10.0                 3               2.70   \n",
       "1                13.7                 3               3.70   \n",
       "2                12.2                 5               3.29   \n",
       "3                 6.6                 7               1.78   \n",
       "4                10.1                 3               2.73   \n",
       "\n",
       "   customer_service_calls  churn  \n",
       "0                       1      0  \n",
       "1                       1      0  \n",
       "2                       0      0  \n",
       "3                       2      0  \n",
       "4                       3      0  "
      ]
     },
     "execution_count": 2,
     "metadata": {},
     "output_type": "execute_result"
    }
   ],
   "source": [
    "# import data\n",
    "df = pd.read_csv('telecom_churn_clean.csv')\n",
    "df.head()"
   ]
  },
  {
   "cell_type": "code",
   "execution_count": 3,
   "id": "243d112f",
   "metadata": {},
   "outputs": [
    {
     "name": "stdout",
     "output_type": "stream",
     "text": [
      "<class 'pandas.core.frame.DataFrame'>\n",
      "RangeIndex: 3333 entries, 0 to 3332\n",
      "Data columns (total 20 columns):\n",
      " #   Column                  Non-Null Count  Dtype  \n",
      "---  ------                  --------------  -----  \n",
      " 0   Unnamed: 0              3333 non-null   int64  \n",
      " 1   account_length          3333 non-null   int64  \n",
      " 2   area_code               3333 non-null   int64  \n",
      " 3   international_plan      3333 non-null   int64  \n",
      " 4   voice_mail_plan         3333 non-null   int64  \n",
      " 5   number_vmail_messages   3333 non-null   int64  \n",
      " 6   total_day_minutes       3333 non-null   float64\n",
      " 7   total_day_calls         3333 non-null   int64  \n",
      " 8   total_day_charge        3333 non-null   float64\n",
      " 9   total_eve_minutes       3333 non-null   float64\n",
      " 10  total_eve_calls         3333 non-null   int64  \n",
      " 11  total_eve_charge        3333 non-null   float64\n",
      " 12  total_night_minutes     3333 non-null   float64\n",
      " 13  total_night_calls       3333 non-null   int64  \n",
      " 14  total_night_charge      3333 non-null   float64\n",
      " 15  total_intl_minutes      3333 non-null   float64\n",
      " 16  total_intl_calls        3333 non-null   int64  \n",
      " 17  total_intl_charge       3333 non-null   float64\n",
      " 18  customer_service_calls  3333 non-null   int64  \n",
      " 19  churn                   3333 non-null   int64  \n",
      "dtypes: float64(8), int64(12)\n",
      "memory usage: 520.9 KB\n"
     ]
    }
   ],
   "source": [
    "df.info()"
   ]
  },
  {
   "cell_type": "code",
   "execution_count": 4,
   "id": "da09ece4",
   "metadata": {},
   "outputs": [
    {
     "data": {
      "text/plain": [
       "<AxesSubplot:xlabel='churn', ylabel='count'>"
      ]
     },
     "execution_count": 4,
     "metadata": {},
     "output_type": "execute_result"
    },
    {
     "data": {
      "image/png": "[encoded data removed]",
      "text/plain": [
       "<Figure size 432x288 with 1 Axes>"
      ]
     },
     "metadata": {},
     "output_type": "display_data"
    }
   ],
   "source": [
    "# see the data labels\n",
    "sns.countplot(data=df, x='churn')"
   ]
  },
  {
   "cell_type": "code",
   "execution_count": 9,
   "id": "e1fa9c29",
   "metadata": {},
   "outputs": [
    {
     "data": {
      "text/plain": [
       "array([0, 0, 0, ..., 0, 0, 0], dtype=int64)"
      ]
     },
     "execution_count": 9,
     "metadata": {},
     "output_type": "execute_result"
    }
   ],
   "source": [
    "# convert values in array( .values converts the selected column items into an array)\n",
    "df[\"churn\"].values"
   ]
  },
  {
   "cell_type": "code",
   "execution_count": 12,
   "id": "055521d6",
   "metadata": {},
   "outputs": [
    {
     "data": {
      "text/plain": [
       "array([[128,   1],\n",
       "       [107,   1],\n",
       "       [137,   0],\n",
       "       ...,\n",
       "       [ 28,   2],\n",
       "       [184,   2],\n",
       "       [ 74,   0]], dtype=int64)"
      ]
     },
     "execution_count": 12,
     "metadata": {},
     "output_type": "execute_result"
    }
   ],
   "source": [
    "df[[\"account_length\", \"customer_service_calls\"]].values"
   ]
  },
  {
   "cell_type": "code",
   "execution_count": 22,
   "id": "6fd8102d",
   "metadata": {},
   "outputs": [
    {
     "data": {
      "text/plain": [
       "KNeighborsClassifier(n_neighbors=6)"
      ]
     },
     "execution_count": 22,
     "metadata": {},
     "output_type": "execute_result"
    }
   ],
   "source": [
    "# Import KNeighborsClassifier\n",
    "from sklearn.neighbors import KNeighborsClassifier\n",
    "\n",
    "# Create arrays for the features and the target variable\n",
    "y = df[\"churn\"].values #target(right Labels)\n",
    "X = df[[\"account_length\", \"customer_service_calls\"]].values #features\n",
    "\n",
    "# Create a KNN classifier with 6 neighbors\n",
    "knn = KNeighborsClassifier(n_neighbors=6) # instantiate the model\n",
    "\n",
    "# Fit the classifier to the data\n",
    "knn.fit(X, y)"
   ]
  },
  {
   "cell_type": "code",
   "execution_count": 30,
   "id": "897e9e23",
   "metadata": {},
   "outputs": [],
   "source": [
    "X_t = df.sample(5)\n",
    "l = list(X_t['churn'])\n",
    "test = X_t[[\"account_length\", \"customer_service_calls\"]].values"
   ]
  },
  {
   "cell_type": "code",
   "execution_count": 31,
   "id": "44176bbe",
   "metadata": {},
   "outputs": [
    {
     "data": {
      "text/plain": [
       "[0, 0, 0, 1, 0]"
      ]
     },
     "execution_count": 31,
     "metadata": {},
     "output_type": "execute_result"
    }
   ],
   "source": [
    "l"
   ]
  },
  {
   "cell_type": "code",
   "execution_count": 32,
   "id": "780821e8",
   "metadata": {},
   "outputs": [
    {
     "data": {
      "text/plain": [
       "array([[115,   1],\n",
       "       [ 86,   0],\n",
       "       [127,   2],\n",
       "       [121,   3],\n",
       "       [163,   1]], dtype=int64)"
      ]
     },
     "execution_count": 32,
     "metadata": {},
     "output_type": "execute_result"
    }
   ],
   "source": [
    "test"
   ]
  },
  {
   "cell_type": "code",
   "execution_count": 33,
   "id": "f8ca8ec5",
   "metadata": {},
   "outputs": [
    {
     "name": "stdout",
     "output_type": "stream",
     "text": [
      "Predictions: [0 0 0 0 0]\n"
     ]
    }
   ],
   "source": [
    "# Predict the labels for the X_new\n",
    "y_pred = knn.predict(test)\n",
    "\n",
    "# Print the predictions for X_new\n",
    "print(\"Predictions: {}\".format(y_pred)) "
   ]
  },
  {
   "cell_type": "code",
   "execution_count": 34,
   "id": "0c2f1d42",
   "metadata": {},
   "outputs": [
    {
     "data": {
      "text/plain": [
       "0.8682868286828683"
      ]
     },
     "execution_count": 34,
     "metadata": {},
     "output_type": "execute_result"
    }
   ],
   "source": [
    "# check model accuracy\n",
    "knn.score(X,y)"
   ]
  },
  {
   "cell_type": "markdown",
   "id": "c2179dbb",
   "metadata": {},
   "source": [
    "## Check the model Accuracy"
   ]
  },
  {
   "cell_type": "code",
   "execution_count": 40,
   "id": "340ddef2",
   "metadata": {},
   "outputs": [
    {
     "name": "stdout",
     "output_type": "stream",
     "text": [
      "0.8605697151424287\n"
     ]
    }
   ],
   "source": [
    "# Import the module\n",
    "from sklearn.model_selection import train_test_split\n",
    "\n",
    "# Split into training and test sets\n",
    "X_train, X_test, y_train, y_test = train_test_split(X, y, test_size=0.2, random_state=42,\n",
    "                                                    stratify=y)\n",
    "knn = KNeighborsClassifier(n_neighbors=11)\n",
    "\n",
    "# Fit the classifier to the training data\n",
    "knn.fit(X_train, y_train)\n",
    "\n",
    "# Print the accuracy\n",
    "print(knn.score(X_test, y_test))"
   ]
  },
  {
   "cell_type": "markdown",
   "id": "ac0fe3c0",
   "metadata": {},
   "source": [
    "# Overfitting and underfitting"
   ]
  },
  {
   "cell_type": "code",
   "execution_count": 23,
   "id": "f86fa0d0",
   "metadata": {},
   "outputs": [
    {
     "name": "stdout",
     "output_type": "stream",
     "text": [
      "[ 1  2  3  4  5  6  7  8  9 10 11 12] \n",
      " {1: 0.8627156789197299, 2: 0.8754688672168042, 3: 0.8735933983495874, 4: 0.8709677419354839, 5: 0.8717179294823706, 6: 0.8675918979744937, 7: 0.8687171792948237, 8: 0.86384096024006, 9: 0.8653413353338335, 10: 0.8634658664666166, 11: 0.86384096024006, 12: 0.8615903975993998} \n",
      " {1: 0.7916041979010495, 2: 0.8575712143928036, 3: 0.8500749625187406, 4: 0.8590704647676162, 5: 0.8515742128935532, 6: 0.856071964017991, 7: 0.8500749625187406, 8: 0.8530734632683659, 9: 0.8590704647676162, 10: 0.8590704647676162, 11: 0.8605697151424287, 12: 0.856071964017991}\n"
     ]
    }
   ],
   "source": [
    "# Create neighbors\n",
    "neighbors = np.arange(1, 13)\n",
    "train_accuracies = {}\n",
    "test_accuracies = {}\n",
    "\n",
    "for neighbor in neighbors:\n",
    "  \n",
    "\t# Set up a KNN Classifier\n",
    "\tknn = KNeighborsClassifier(n_neighbors=neighbor)\n",
    "  \n",
    "\t# Fit the model\n",
    "\tknn.fit(X_train, y_train)\n",
    "  \n",
    "\t# Compute accuracy\n",
    "\ttrain_accuracies[neighbor] = knn.score(X_train,y_train)\n",
    "\ttest_accuracies[neighbor] = knn.score(X_test, y_test)\n",
    "print(neighbors, '\\n', train_accuracies, '\\n', test_accuracies)"
   ]
  },
  {
   "cell_type": "code",
   "execution_count": 25,
   "id": "47058afa",
   "metadata": {},
   "outputs": [
    {
     "data": {
      "image/png": "[encoded data removed]",
      "text/plain": [
       "<Figure size 576x432 with 1 Axes>"
      ]
     },
     "metadata": {},
     "output_type": "display_data"
    }
   ],
   "source": [
    "plt.figure(figsize=(8, 6))\n",
    "plt.title(\"KNN: Varying Number of Neighbors\")\n",
    "plt.plot(neighbors, train_accuracies.values(), label=\"Training Accuracy\")\n",
    "plt.plot(neighbors, test_accuracies.values(), label=\"Testing Accuracy\")\n",
    "plt.legend()\n",
    "plt.xlabel(\"Number of Neighbors\")\n",
    "plt.ylabel(\"Accuracy\")\n",
    "plt.show()"
   ]
  },
  {
   "cell_type": "code",
   "execution_count": 26,
   "id": "2b469dbf",
   "metadata": {},
   "outputs": [],
   "source": [
    "from sklearn.preprocessing import PowerTransformer\n"
   ]
  },
  {
   "cell_type": "code",
   "execution_count": null,
   "id": "473aa8cf",
   "metadata": {},
   "outputs": [],
   "source": [
    "log = PowerTransformer()"
   ]
  }
 ],
 "metadata": {
  "kernelspec": {
   "display_name": "Python 3 (ipykernel)",
   "language": "python",
   "name": "python3"
  },
  "language_info": {
   "codemirror_mode": {
    "name": "ipython",
    "version": 3
   },
   "file_extension": ".py",
   "mimetype": "text/x-python",
   "name": "python",
   "nbconvert_exporter": "python",
   "pygments_lexer": "ipython3",
   "version": "3.9.12"
  }
 },
 "nbformat": 4,
 "nbformat_minor": 5
}
